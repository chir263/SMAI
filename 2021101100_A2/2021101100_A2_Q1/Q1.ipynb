{
  "cells": [
    {
      "cell_type": "markdown",
      "metadata": {
        "id": "blv6XBI5GxO9"
      },
      "source": [
        "# SMAI Assignment - 2\n",
        "\n",
        "## Question 1: Naive Bayes and Clustering\n",
        "\n",
        "### Part 1: Naive Bayes\n",
        "\n",
        "[Files](https://drive.google.com/drive/folders/1OUVrOMp2jSSBDJSqvEyXDFTrhiyZnqit?usp=sharing)\n",
        "\n",
        "You will be performing Sentiment Analysis on a product review dataset with reviews from customers and star rating belonging to four classes (1,2,4,5). You can use sklearn for this question. Your tasks are as follows:\n",
        "\n",
        "1.   Clean the text by removing punctations and preprocess them using techniques such as stop word removal, stemming etc. You can explore anything!\n",
        "1.  Create BoW features using the word counts. You can choose the words that form the features such that the performance is optimised. Use the train-test split provided in `train_test_index.pickle` and report any interesting observations based on metrics such as accurarcy, precision, recall and f1 score (You can use Classification report in sklearn).\n",
        "1. Repeat Task 2 with TfIdf features."
      ]
    },
    {
      "cell_type": "code",
      "execution_count": 4,
      "metadata": {
        "id": "U0nNsliRUjqd"
      },
      "outputs": [],
      "source": [
        "import pandas as pd\n",
        "from sklearn.feature_extraction.text import CountVectorizer, TfidfVectorizer\n",
        "from sklearn.model_selection import train_test_split\n",
        "from sklearn.naive_bayes import MultinomialNB\n",
        "from sklearn.metrics import classification_report\n",
        "from sklearn.feature_extraction.text import ENGLISH_STOP_WORDS\n",
        "from sklearn.feature_extraction.text import TfidfTransformer\n",
        "from sklearn.pipeline import Pipeline\n",
        "import string\n",
        "from nltk.stem import PorterStemmer\n",
        "import pickle\n",
        "import numpy as np\n",
        "\n",
        "\n",
        "with open('train_test_index.pickle', 'rb') as handle:\n",
        "    train_test_index_dict = pickle.load(handle)"
      ]
    },
    {
      "cell_type": "code",
      "execution_count": 5,
      "metadata": {
        "id": "86GXlinlUz8b"
      },
      "outputs": [
        {
          "data": {
            "text/html": [
              "<div>\n",
              "<style scoped>\n",
              "    .dataframe tbody tr th:only-of-type {\n",
              "        vertical-align: middle;\n",
              "    }\n",
              "\n",
              "    .dataframe tbody tr th {\n",
              "        vertical-align: top;\n",
              "    }\n",
              "\n",
              "    .dataframe thead th {\n",
              "        text-align: right;\n",
              "    }\n",
              "</style>\n",
              "<table border=\"1\" class=\"dataframe\">\n",
              "  <thead>\n",
              "    <tr style=\"text-align: right;\">\n",
              "      <th></th>\n",
              "      <th>text</th>\n",
              "      <th>stars</th>\n",
              "      <th>sentiment</th>\n",
              "    </tr>\n",
              "  </thead>\n",
              "  <tbody>\n",
              "    <tr>\n",
              "      <th>0</th>\n",
              "      <td>Total bill for this horrible service? Over $8G...</td>\n",
              "      <td>1.0</td>\n",
              "      <td>0</td>\n",
              "    </tr>\n",
              "    <tr>\n",
              "      <th>1</th>\n",
              "      <td>Went in for a lunch. Steak sandwich was delici...</td>\n",
              "      <td>5.0</td>\n",
              "      <td>1</td>\n",
              "    </tr>\n",
              "    <tr>\n",
              "      <th>2</th>\n",
              "      <td>This place has gone down hill.  Clearly they h...</td>\n",
              "      <td>1.0</td>\n",
              "      <td>0</td>\n",
              "    </tr>\n",
              "    <tr>\n",
              "      <th>3</th>\n",
              "      <td>Walked in around 4 on a Friday afternoon, we s...</td>\n",
              "      <td>1.0</td>\n",
              "      <td>0</td>\n",
              "    </tr>\n",
              "    <tr>\n",
              "      <th>4</th>\n",
              "      <td>Michael from Red Carpet VIP is amazing ! I rea...</td>\n",
              "      <td>4.0</td>\n",
              "      <td>1</td>\n",
              "    </tr>\n",
              "  </tbody>\n",
              "</table>\n",
              "</div>"
            ],
            "text/plain": [
              "                                                text  stars  sentiment\n",
              "0  Total bill for this horrible service? Over $8G...    1.0          0\n",
              "1  Went in for a lunch. Steak sandwich was delici...    5.0          1\n",
              "2  This place has gone down hill.  Clearly they h...    1.0          0\n",
              "3  Walked in around 4 on a Friday afternoon, we s...    1.0          0\n",
              "4  Michael from Red Carpet VIP is amazing ! I rea...    4.0          1"
            ]
          },
          "execution_count": 5,
          "metadata": {},
          "output_type": "execute_result"
        }
      ],
      "source": [
        "import pandas as pd\n",
        "\n",
        "data = pd.read_csv('product_reviews.csv')\n",
        "data.head() "
      ]
    },
    {
      "cell_type": "code",
      "execution_count": 6,
      "metadata": {},
      "outputs": [
        {
          "name": "stdout",
          "output_type": "stream",
          "text": [
            "train_index 17862\n",
            "test_index 8799\n",
            "6914    I have been here twice.  Both times the staff ...\n",
            "Name: text, dtype: object\n",
            "                                                    text  stars  sentiment\n",
            "9576   Awesome place for brekky and great service. On...    4.0          1\n",
            "7281   The location is very convenient very close to ...    2.0          0\n",
            "22608  It took me 20+ years to find Vicky and I'm nev...    5.0          1\n",
            "4134   Came the same day!  Honest and you can tell he...    5.0          1\n",
            "18759  Bad service, Bland Pizza, and really really ov...    2.0          0\n"
          ]
        }
      ],
      "source": [
        "for key in train_test_index_dict.keys():\n",
        "    print(key, len(train_test_index_dict[key]))\n",
        "\n",
        "train_data = data.iloc[train_test_index_dict['train_index']]\n",
        "test_data = data.iloc[train_test_index_dict['test_index']]\n",
        "\n",
        "print((train_data.head()[\"text\"][0:1]))\n",
        "print(test_data.head())"
      ]
    },
    {
      "cell_type": "code",
      "execution_count": 4,
      "metadata": {},
      "outputs": [],
      "source": [
        "def preprocess_text(text):\n",
        "\n",
        "    def money_to_token(word):\n",
        "        if word.startswith('$') and len(word) > 1:\n",
        "            return 'moneytoken'\n",
        "        return word\n",
        "    \n",
        "    def number_to_token(word):\n",
        "        if word.isdigit():\n",
        "            return 'numbertoken'\n",
        "        return word\n",
        "\n",
        "    text = text.lower()\n",
        "    text = ' '.join([money_to_token(word.strip()) for word in text.split()])\n",
        "    text = ' '.join([number_to_token(word) for word in text.split()])\n",
        "    text = ''.join([char for char in text if char not in string.punctuation])\n",
        "    text = ' '.join([word for word in text.split()\n",
        "                    if word not in ENGLISH_STOP_WORDS])\n",
        "    \n",
        "    stemmer = PorterStemmer()\n",
        "    text = ' '.join([stemmer.stem(word) for word in text.split()])\n",
        "    return text"
      ]
    },
    {
      "cell_type": "code",
      "execution_count": 5,
      "metadata": {},
      "outputs": [
        {
          "name": "stderr",
          "output_type": "stream",
          "text": [
            "/tmp/ipykernel_435876/1167567766.py:1: SettingWithCopyWarning: \n",
            "A value is trying to be set on a copy of a slice from a DataFrame.\n",
            "Try using .loc[row_indexer,col_indexer] = value instead\n",
            "\n",
            "See the caveats in the documentation: https://pandas.pydata.org/pandas-docs/stable/user_guide/indexing.html#returning-a-view-versus-a-copy\n",
            "  train_data['text'] = train_data['text'].apply(preprocess_text)\n",
            "/tmp/ipykernel_435876/1167567766.py:2: SettingWithCopyWarning: \n",
            "A value is trying to be set on a copy of a slice from a DataFrame.\n",
            "Try using .loc[row_indexer,col_indexer] = value instead\n",
            "\n",
            "See the caveats in the documentation: https://pandas.pydata.org/pandas-docs/stable/user_guide/indexing.html#returning-a-view-versus-a-copy\n",
            "  test_data['text'] = test_data['text'].apply(preprocess_text)\n"
          ]
        }
      ],
      "source": [
        "train_data['text'] = train_data['text'].apply(preprocess_text)\n",
        "test_data['text'] = test_data['text'].apply(preprocess_text)"
      ]
    },
    {
      "cell_type": "code",
      "execution_count": 6,
      "metadata": {},
      "outputs": [
        {
          "data": {
            "text/html": [
              "<div>\n",
              "<style scoped>\n",
              "    .dataframe tbody tr th:only-of-type {\n",
              "        vertical-align: middle;\n",
              "    }\n",
              "\n",
              "    .dataframe tbody tr th {\n",
              "        vertical-align: top;\n",
              "    }\n",
              "\n",
              "    .dataframe thead th {\n",
              "        text-align: right;\n",
              "    }\n",
              "</style>\n",
              "<table border=\"1\" class=\"dataframe\">\n",
              "  <thead>\n",
              "    <tr style=\"text-align: right;\">\n",
              "      <th></th>\n",
              "      <th>text</th>\n",
              "      <th>stars</th>\n",
              "      <th>sentiment</th>\n",
              "    </tr>\n",
              "  </thead>\n",
              "  <tbody>\n",
              "    <tr>\n",
              "      <th>6914</th>\n",
              "      <td>twice time staff super friendli help pina cola...</td>\n",
              "      <td>5.0</td>\n",
              "      <td>1</td>\n",
              "    </tr>\n",
              "    <tr>\n",
              "      <th>8332</th>\n",
              "      <td>awesom get cpr card realli nice definit taught...</td>\n",
              "      <td>5.0</td>\n",
              "      <td>1</td>\n",
              "    </tr>\n",
              "    <tr>\n",
              "      <th>2791</th>\n",
              "      <td>came date night girlfriend sunday busi seat im...</td>\n",
              "      <td>4.0</td>\n",
              "      <td>1</td>\n",
              "    </tr>\n",
              "    <tr>\n",
              "      <th>25106</th>\n",
              "      <td>fulton home continu produc high qualiti home j...</td>\n",
              "      <td>5.0</td>\n",
              "      <td>1</td>\n",
              "    </tr>\n",
              "    <tr>\n",
              "      <th>11135</th>\n",
              "      <td>jaim ce petit café car nou navon jamai limpres...</td>\n",
              "      <td>4.0</td>\n",
              "      <td>1</td>\n",
              "    </tr>\n",
              "  </tbody>\n",
              "</table>\n",
              "</div>"
            ],
            "text/plain": [
              "                                                    text  stars  sentiment\n",
              "6914   twice time staff super friendli help pina cola...    5.0          1\n",
              "8332   awesom get cpr card realli nice definit taught...    5.0          1\n",
              "2791   came date night girlfriend sunday busi seat im...    4.0          1\n",
              "25106  fulton home continu produc high qualiti home j...    5.0          1\n",
              "11135  jaim ce petit café car nou navon jamai limpres...    4.0          1"
            ]
          },
          "execution_count": 6,
          "metadata": {},
          "output_type": "execute_result"
        }
      ],
      "source": [
        "train_data.head()"
      ]
    },
    {
      "cell_type": "code",
      "execution_count": 7,
      "metadata": {},
      "outputs": [],
      "source": [
        "X_train = train_data['text']\n",
        "y_train = train_data['stars']\n",
        "X_test = test_data['text']\n",
        "y_test = test_data['stars']"
      ]
    },
    {
      "cell_type": "code",
      "execution_count": 8,
      "metadata": {},
      "outputs": [
        {
          "name": "stdout",
          "output_type": "stream",
          "text": [
            "Classification Report for BoW Features:\n",
            "              precision    recall  f1-score   support\n",
            "\n",
            "         1.0       0.73      0.74      0.73      1149\n",
            "         2.0       0.48      0.08      0.14       587\n",
            "         4.0       0.47      0.48      0.48      1981\n",
            "         5.0       0.78      0.84      0.81      5082\n",
            "\n",
            "    accuracy                           0.70      8799\n",
            "   macro avg       0.61      0.54      0.54      8799\n",
            "weighted avg       0.68      0.70      0.68      8799\n",
            "\n",
            "Classification Report for TF-IDF Features:\n",
            "              precision    recall  f1-score   support\n",
            "\n",
            "         1.0       0.93      0.12      0.21      1149\n",
            "         2.0       0.00      0.00      0.00       587\n",
            "         4.0       0.48      0.01      0.02      1981\n",
            "         5.0       0.59      1.00      0.74      5082\n",
            "\n",
            "    accuracy                           0.59      8799\n",
            "   macro avg       0.50      0.28      0.24      8799\n",
            "weighted avg       0.57      0.59      0.46      8799\n",
            "\n"
          ]
        },
        {
          "name": "stderr",
          "output_type": "stream",
          "text": [
            "/home/chirag/.local/lib/python3.8/site-packages/sklearn/metrics/_classification.py:1471: UndefinedMetricWarning: Precision and F-score are ill-defined and being set to 0.0 in labels with no predicted samples. Use `zero_division` parameter to control this behavior.\n",
            "  _warn_prf(average, modifier, msg_start, len(result))\n",
            "/home/chirag/.local/lib/python3.8/site-packages/sklearn/metrics/_classification.py:1471: UndefinedMetricWarning: Precision and F-score are ill-defined and being set to 0.0 in labels with no predicted samples. Use `zero_division` parameter to control this behavior.\n",
            "  _warn_prf(average, modifier, msg_start, len(result))\n",
            "/home/chirag/.local/lib/python3.8/site-packages/sklearn/metrics/_classification.py:1471: UndefinedMetricWarning: Precision and F-score are ill-defined and being set to 0.0 in labels with no predicted samples. Use `zero_division` parameter to control this behavior.\n",
            "  _warn_prf(average, modifier, msg_start, len(result))\n"
          ]
        }
      ],
      "source": [
        "bow_vectorizer = CountVectorizer()\n",
        "X_train_bow = bow_vectorizer.fit_transform(X_train)\n",
        "X_test_bow = bow_vectorizer.transform(X_test)\n",
        "\n",
        "\n",
        "bow_classifier = MultinomialNB()\n",
        "bow_classifier.fit(X_train_bow, y_train)\n",
        "\n",
        "y_pred_bow = bow_classifier.predict(X_test_bow)\n",
        "\n",
        "print(\"Classification Report for BoW Features:\")\n",
        "print(classification_report(y_test, y_pred_bow))\n",
        "\n",
        "tfidf_vectorizer = TfidfVectorizer()\n",
        "X_train_tfidf = tfidf_vectorizer.fit_transform(X_train)\n",
        "X_test_tfidf = tfidf_vectorizer.transform(X_test)\n",
        "\n",
        "tfidf_classifier = MultinomialNB()\n",
        "tfidf_classifier.fit(X_train_tfidf, y_train)\n",
        "\n",
        "y_pred_tfidf = tfidf_classifier.predict(X_test_tfidf)\n",
        "\n",
        "print(\"Classification Report for TF-IDF Features:\")\n",
        "print(classification_report(y_test, y_pred_tfidf))"
      ]
    },
    {
      "cell_type": "markdown",
      "metadata": {
        "id": "T8GYzpkuUcs6"
      },
      "source": [
        "### Part 2: Clustering\n",
        "\n",
        "You will be performing kmeans clustering on the same product reviews dataset from Part 1. In this question, instead of statistically computing features, you will use the embeddings obtained from a neural sentiment analysis model (huggingface: siebert/sentiment-roberta-large-english).\n",
        "\n",
        "You can use sklearn for this question. Your tasks are as follows:\n",
        "\n",
        "\n",
        "1. Perform kmeans clustering using sklearn. Try various values for number of clusters (k) and plot the elbow curve. For each value of k, plot WCSS (Within-Cluster Sum of Square). WCSS is the sum of the squared distance between each point and the centroid in a cluster.\n",
        "1. Perform task 1 with cluster initialisation methods [k-means++, forgy (\"random\" in sklearn)].\n",
        "1. In this case, since the ground truth labels (star rating) are available we can evaluate the clustering using metrics like purity, nmi and rand score. Implement these metrics from scratch and evaluate the clustering. [Reference](https://nlp.stanford.edu/IR-book/html/htmledition/evaluation-of-clustering-1.html)"
      ]
    },
    {
      "cell_type": "code",
      "execution_count": null,
      "metadata": {},
      "outputs": [],
      "source": []
    },
    {
      "cell_type": "code",
      "execution_count": 2,
      "metadata": {
        "id": "5ddsz-nxGvfE"
      },
      "outputs": [
        {
          "name": "stdout",
          "output_type": "stream",
          "text": [
            "(26661, 1024)\n"
          ]
        }
      ],
      "source": [
        "import gzip\n",
        "import numpy as np \n",
        "\n",
        "f = gzip.GzipFile('roberta_embeds.npy.gz', \"r\")\n",
        "embeds = np.load(f)\n",
        "print(embeds.shape)"
      ]
    },
    {
      "cell_type": "code",
      "execution_count": 31,
      "metadata": {},
      "outputs": [
        {
          "name": "stderr",
          "output_type": "stream",
          "text": [
            "/home/chirag/.local/lib/python3.8/site-packages/sklearn/cluster/_kmeans.py:1416: FutureWarning: The default value of `n_init` will change from 10 to 'auto' in 1.4. Set the value of `n_init` explicitly to suppress the warning\n",
            "  super()._check_params_vs_input(X, default_n_init=10)\n",
            "/home/chirag/.local/lib/python3.8/site-packages/sklearn/cluster/_kmeans.py:1416: FutureWarning: The default value of `n_init` will change from 10 to 'auto' in 1.4. Set the value of `n_init` explicitly to suppress the warning\n",
            "  super()._check_params_vs_input(X, default_n_init=10)\n",
            "/home/chirag/.local/lib/python3.8/site-packages/sklearn/cluster/_kmeans.py:1416: FutureWarning: The default value of `n_init` will change from 10 to 'auto' in 1.4. Set the value of `n_init` explicitly to suppress the warning\n",
            "  super()._check_params_vs_input(X, default_n_init=10)\n",
            "/home/chirag/.local/lib/python3.8/site-packages/sklearn/cluster/_kmeans.py:1416: FutureWarning: The default value of `n_init` will change from 10 to 'auto' in 1.4. Set the value of `n_init` explicitly to suppress the warning\n",
            "  super()._check_params_vs_input(X, default_n_init=10)\n",
            "/home/chirag/.local/lib/python3.8/site-packages/sklearn/cluster/_kmeans.py:1416: FutureWarning: The default value of `n_init` will change from 10 to 'auto' in 1.4. Set the value of `n_init` explicitly to suppress the warning\n",
            "  super()._check_params_vs_input(X, default_n_init=10)\n",
            "/home/chirag/.local/lib/python3.8/site-packages/sklearn/cluster/_kmeans.py:1416: FutureWarning: The default value of `n_init` will change from 10 to 'auto' in 1.4. Set the value of `n_init` explicitly to suppress the warning\n",
            "  super()._check_params_vs_input(X, default_n_init=10)\n",
            "/home/chirag/.local/lib/python3.8/site-packages/sklearn/cluster/_kmeans.py:1416: FutureWarning: The default value of `n_init` will change from 10 to 'auto' in 1.4. Set the value of `n_init` explicitly to suppress the warning\n",
            "  super()._check_params_vs_input(X, default_n_init=10)\n",
            "/home/chirag/.local/lib/python3.8/site-packages/sklearn/cluster/_kmeans.py:1416: FutureWarning: The default value of `n_init` will change from 10 to 'auto' in 1.4. Set the value of `n_init` explicitly to suppress the warning\n",
            "  super()._check_params_vs_input(X, default_n_init=10)\n",
            "/home/chirag/.local/lib/python3.8/site-packages/sklearn/cluster/_kmeans.py:1416: FutureWarning: The default value of `n_init` will change from 10 to 'auto' in 1.4. Set the value of `n_init` explicitly to suppress the warning\n",
            "  super()._check_params_vs_input(X, default_n_init=10)\n",
            "/home/chirag/.local/lib/python3.8/site-packages/sklearn/cluster/_kmeans.py:1416: FutureWarning: The default value of `n_init` will change from 10 to 'auto' in 1.4. Set the value of `n_init` explicitly to suppress the warning\n",
            "  super()._check_params_vs_input(X, default_n_init=10)\n"
          ]
        },
        {
          "name": "stdout",
          "output_type": "stream",
          "text": [
            "[14015419.042626824, 383779.78270260454, 204916.62139984732, 112261.4787444516, 86921.47505206132, 66230.38868562313, 53232.146172269655, 44411.39121594932, 38042.48435596179, 32138.316300259845]\n"
          ]
        },
        {
          "data": {
            "image/png": "[encoded data removed]",
            "text/plain": [
              "<Figure size 576x360 with 1 Axes>"
            ]
          },
          "metadata": {
            "needs_background": "light"
          },
          "output_type": "display_data"
        },
        {
          "name": "stderr",
          "output_type": "stream",
          "text": [
            "/home/chirag/.local/lib/python3.8/site-packages/sklearn/cluster/_kmeans.py:1416: FutureWarning: The default value of `n_init` will change from 10 to 'auto' in 1.4. Set the value of `n_init` explicitly to suppress the warning\n",
            "  super()._check_params_vs_input(X, default_n_init=10)\n",
            "/home/chirag/.local/lib/python3.8/site-packages/sklearn/cluster/_kmeans.py:1416: FutureWarning: The default value of `n_init` will change from 10 to 'auto' in 1.4. Set the value of `n_init` explicitly to suppress the warning\n",
            "  super()._check_params_vs_input(X, default_n_init=10)\n",
            "/home/chirag/.local/lib/python3.8/site-packages/sklearn/cluster/_kmeans.py:1416: FutureWarning: The default value of `n_init` will change from 10 to 'auto' in 1.4. Set the value of `n_init` explicitly to suppress the warning\n",
            "  super()._check_params_vs_input(X, default_n_init=10)\n",
            "/home/chirag/.local/lib/python3.8/site-packages/sklearn/cluster/_kmeans.py:1416: FutureWarning: The default value of `n_init` will change from 10 to 'auto' in 1.4. Set the value of `n_init` explicitly to suppress the warning\n",
            "  super()._check_params_vs_input(X, default_n_init=10)\n",
            "/home/chirag/.local/lib/python3.8/site-packages/sklearn/cluster/_kmeans.py:1416: FutureWarning: The default value of `n_init` will change from 10 to 'auto' in 1.4. Set the value of `n_init` explicitly to suppress the warning\n",
            "  super()._check_params_vs_input(X, default_n_init=10)\n",
            "/home/chirag/.local/lib/python3.8/site-packages/sklearn/cluster/_kmeans.py:1416: FutureWarning: The default value of `n_init` will change from 10 to 'auto' in 1.4. Set the value of `n_init` explicitly to suppress the warning\n",
            "  super()._check_params_vs_input(X, default_n_init=10)\n",
            "/home/chirag/.local/lib/python3.8/site-packages/sklearn/cluster/_kmeans.py:1416: FutureWarning: The default value of `n_init` will change from 10 to 'auto' in 1.4. Set the value of `n_init` explicitly to suppress the warning\n",
            "  super()._check_params_vs_input(X, default_n_init=10)\n",
            "/home/chirag/.local/lib/python3.8/site-packages/sklearn/cluster/_kmeans.py:1416: FutureWarning: The default value of `n_init` will change from 10 to 'auto' in 1.4. Set the value of `n_init` explicitly to suppress the warning\n",
            "  super()._check_params_vs_input(X, default_n_init=10)\n",
            "/home/chirag/.local/lib/python3.8/site-packages/sklearn/cluster/_kmeans.py:1416: FutureWarning: The default value of `n_init` will change from 10 to 'auto' in 1.4. Set the value of `n_init` explicitly to suppress the warning\n",
            "  super()._check_params_vs_input(X, default_n_init=10)\n",
            "/home/chirag/.local/lib/python3.8/site-packages/sklearn/cluster/_kmeans.py:1416: FutureWarning: The default value of `n_init` will change from 10 to 'auto' in 1.4. Set the value of `n_init` explicitly to suppress the warning\n",
            "  super()._check_params_vs_input(X, default_n_init=10)\n"
          ]
        },
        {
          "name": "stdout",
          "output_type": "stream",
          "text": [
            "[14015419.042626824, 383779.78270260454, 204916.62139984732, 112261.4787444516, 86921.53297653403, 66230.5229682122, 53234.08435667168, 46916.41485779021, 38095.78833755612, 34136.21858178713]\n"
          ]
        },
        {
          "data": {
            "image/png": "[encoded data removed]",
            "text/plain": [
              "<Figure size 576x360 with 1 Axes>"
            ]
          },
          "metadata": {
            "needs_background": "light"
          },
          "output_type": "display_data"
        },
        {
          "name": "stderr",
          "output_type": "stream",
          "text": [
            "/home/chirag/.local/lib/python3.8/site-packages/sklearn/cluster/_kmeans.py:1416: FutureWarning: The default value of `n_init` will change from 10 to 'auto' in 1.4. Set the value of `n_init` explicitly to suppress the warning\n",
            "  super()._check_params_vs_input(X, default_n_init=10)\n"
          ]
        },
        {
          "name": "stdout",
          "output_type": "stream",
          "text": [
            "Metrics for k=4, Initialization=k-means++:\n",
            "Purity: 0.7132\n",
            "NMI: 0.5200\n",
            "Rand Score: 0.7276\n"
          ]
        },
        {
          "name": "stderr",
          "output_type": "stream",
          "text": [
            "/home/chirag/.local/lib/python3.8/site-packages/sklearn/cluster/_kmeans.py:1416: FutureWarning: The default value of `n_init` will change from 10 to 'auto' in 1.4. Set the value of `n_init` explicitly to suppress the warning\n",
            "  super()._check_params_vs_input(X, default_n_init=10)\n"
          ]
        },
        {
          "name": "stdout",
          "output_type": "stream",
          "text": [
            "Metrics for k=5, Initialization=k-means++:\n",
            "Purity: 0.7111\n",
            "NMI: 0.4610\n",
            "Rand Score: 0.7277\n"
          ]
        },
        {
          "name": "stderr",
          "output_type": "stream",
          "text": [
            "/home/chirag/.local/lib/python3.8/site-packages/sklearn/cluster/_kmeans.py:1416: FutureWarning: The default value of `n_init` will change from 10 to 'auto' in 1.4. Set the value of `n_init` explicitly to suppress the warning\n",
            "  super()._check_params_vs_input(X, default_n_init=10)\n"
          ]
        },
        {
          "name": "stdout",
          "output_type": "stream",
          "text": [
            "Metrics for k=7, Initialization=k-means++:\n",
            "Purity: 0.7153\n",
            "NMI: 0.4220\n",
            "Rand Score: 0.7092\n"
          ]
        }
      ],
      "source": [
        "import matplotlib.pyplot as plt\n",
        "from sklearn.cluster import KMeans\n",
        "from sklearn.metrics import pair_confusion_matrix\n",
        "\n",
        "\n",
        "def plot_elbow_curve(data, max_k=10, init_method='k-means++'):\n",
        "    wcss = []\n",
        "\n",
        "    for k in range(1, max_k + 1):\n",
        "        kmeans = KMeans(n_clusters=k, init=init_method, random_state=42, n_init='auto')\n",
        "        kmeans.fit(data)\n",
        "        wcss.append(kmeans.inertia_)\n",
        "\n",
        "    print(wcss)\n",
        "\n",
        "    plt.figure(figsize=(8, 5))\n",
        "    plt.plot(range(1, max_k + 1), wcss, marker='o')\n",
        "    plt.title(f'Elbow Curve {init_method}')\n",
        "    plt.xlabel('Number of Clusters (k)')\n",
        "    plt.ylabel('Within-Cluster Sum of Square (WCSS)')\n",
        "    plt.show()\n",
        "\n",
        "\n",
        "def calculate_purity(cluster_labels, true_labels):\n",
        "    contingency_table = np.zeros(\n",
        "        (6, len(np.unique(cluster_labels))))\n",
        "\n",
        "    for i in range(len(cluster_labels)):\n",
        "        contingency_table[true_labels[i], cluster_labels[i]] += 1\n",
        "\n",
        "    purity = np.sum(np.max(contingency_table, axis=0)) / len(true_labels)\n",
        "\n",
        "    return purity\n",
        "\n",
        "def calculate_entropy(distribution):\n",
        "    return -np.sum(np.nan_to_num(distribution * np.log2(np.clip(distribution, 1e-10, None))))\n",
        "\n",
        "def calculate_mutual_information(cluster_labels, true_labels):\n",
        "    contingency_table = np.zeros(\n",
        "        (6, len(np.unique(cluster_labels))))\n",
        "\n",
        "    for i in range(len(cluster_labels)):\n",
        "        contingency_table[true_labels[i], cluster_labels[i]] += 1\n",
        "\n",
        "    total_samples = len(true_labels)\n",
        "    joint_probabilities = contingency_table / total_samples\n",
        "\n",
        "    p_true = np.sum(joint_probabilities, axis=1)\n",
        "    p_cluster = np.sum(joint_probabilities, axis=0)\n",
        "\n",
        "    entropy_true = calculate_entropy(p_true)\n",
        "    entropy_cluster = calculate_entropy(p_cluster)\n",
        "\n",
        "    mutual_information = 0.0\n",
        "    for i in range(6):\n",
        "        for j in range(len(np.unique(cluster_labels))):\n",
        "            if joint_probabilities[i, j] > 0.0:\n",
        "                mutual_information += joint_probabilities[i, j] * np.log2(\n",
        "                    joint_probabilities[i, j] / (p_true[i] * p_cluster[j]))\n",
        "\n",
        "    return mutual_information, entropy_true, entropy_cluster\n",
        "\n",
        "def calculate_normalized_mutual_information(cluster_labels, true_labels):\n",
        "    mutual_information, entropy_true, entropy_cluster = calculate_mutual_information(\n",
        "        cluster_labels, true_labels)\n",
        "\n",
        "    nmi = (2*mutual_information) / (entropy_true + entropy_cluster)\n",
        "    return nmi\n",
        "\n",
        "def calculate_rand_score(cluster_labels, true_labels):\n",
        "    contingency = pair_confusion_matrix(true_labels, cluster_labels)\n",
        "    numerator = contingency.diagonal().sum()\n",
        "    denominator = contingency.sum()\n",
        "\n",
        "    if denominator == 0:\n",
        "        return 1.0\n",
        "\n",
        "    return numerator / denominator\n",
        "\n",
        "def kmeans_clustering(data, k, init_method='k-means++', true_labels=None):\n",
        "    kmeans = KMeans(n_clusters=k, init=init_method, random_state=42)\n",
        "    cluster_labels = kmeans.fit_predict(data)\n",
        "\n",
        "    cluster_labels = cluster_labels.astype(int)\n",
        "    true_labels = true_labels.astype(int)\n",
        "\n",
        "    purity = calculate_purity(\n",
        "        cluster_labels, true_labels)\n",
        "    nmi = calculate_normalized_mutual_information(cluster_labels, true_labels)\n",
        "    rand_scor = calculate_rand_score(cluster_labels, true_labels)\n",
        "\n",
        "    print(f\"Metrics for k={k}, Initialization={init_method}:\")\n",
        "    print(f\"Purity: {purity:.4f}\")\n",
        "    print(f\"NMI: {nmi:.4f}\")\n",
        "    print(f\"Rand Score: {rand_scor:.4f}\")\n",
        "    # print(\n",
        "    #     f\"Adjusted Rand Score (lib): {rand_score(true_labels, cluster_labels)}\")\n",
        "\n",
        "    return cluster_labels\n",
        "\n",
        "\n",
        "\n",
        "init_methods = ['k-means++', 'random']\n",
        "\n",
        "true_labels = np.array(data['stars'])\n",
        "\n",
        "for init_method in init_methods:\n",
        "    plot_elbow_curve(embeds, max_k=10, init_method=init_method)\n",
        "\n"
      ]
    },
    {
      "cell_type": "code",
      "execution_count": 32,
      "metadata": {},
      "outputs": [
        {
          "name": "stderr",
          "output_type": "stream",
          "text": [
            "/home/chirag/.local/lib/python3.8/site-packages/sklearn/cluster/_kmeans.py:1416: FutureWarning: The default value of `n_init` will change from 10 to 'auto' in 1.4. Set the value of `n_init` explicitly to suppress the warning\n",
            "  super()._check_params_vs_input(X, default_n_init=10)\n"
          ]
        },
        {
          "name": "stdout",
          "output_type": "stream",
          "text": [
            "Metrics for k=4, Initialization=k-means++:\n",
            "Purity: 0.7132\n",
            "NMI: 0.5200\n",
            "Rand Score: 0.7276\n"
          ]
        },
        {
          "name": "stderr",
          "output_type": "stream",
          "text": [
            "/home/chirag/.local/lib/python3.8/site-packages/sklearn/cluster/_kmeans.py:1416: FutureWarning: The default value of `n_init` will change from 10 to 'auto' in 1.4. Set the value of `n_init` explicitly to suppress the warning\n",
            "  super()._check_params_vs_input(X, default_n_init=10)\n"
          ]
        },
        {
          "name": "stdout",
          "output_type": "stream",
          "text": [
            "Metrics for k=4, Initialization=k-means++:\n",
            "Purity: 0.7132\n",
            "NMI: 0.5200\n",
            "Rand Score: 0.7276\n"
          ]
        },
        {
          "name": "stderr",
          "output_type": "stream",
          "text": [
            "/home/chirag/.local/lib/python3.8/site-packages/sklearn/cluster/_kmeans.py:1416: FutureWarning: The default value of `n_init` will change from 10 to 'auto' in 1.4. Set the value of `n_init` explicitly to suppress the warning\n",
            "  super()._check_params_vs_input(X, default_n_init=10)\n"
          ]
        },
        {
          "name": "stdout",
          "output_type": "stream",
          "text": [
            "Metrics for k=5, Initialization=k-means++:\n",
            "Purity: 0.7111\n",
            "NMI: 0.4610\n",
            "Rand Score: 0.7277\n"
          ]
        },
        {
          "name": "stderr",
          "output_type": "stream",
          "text": [
            "/home/chirag/.local/lib/python3.8/site-packages/sklearn/cluster/_kmeans.py:1416: FutureWarning: The default value of `n_init` will change from 10 to 'auto' in 1.4. Set the value of `n_init` explicitly to suppress the warning\n",
            "  super()._check_params_vs_input(X, default_n_init=10)\n"
          ]
        },
        {
          "name": "stdout",
          "output_type": "stream",
          "text": [
            "Metrics for k=5, Initialization=k-means++:\n",
            "Purity: 0.7111\n",
            "NMI: 0.4610\n",
            "Rand Score: 0.7277\n"
          ]
        },
        {
          "name": "stderr",
          "output_type": "stream",
          "text": [
            "/home/chirag/.local/lib/python3.8/site-packages/sklearn/cluster/_kmeans.py:1416: FutureWarning: The default value of `n_init` will change from 10 to 'auto' in 1.4. Set the value of `n_init` explicitly to suppress the warning\n",
            "  super()._check_params_vs_input(X, default_n_init=10)\n"
          ]
        },
        {
          "name": "stdout",
          "output_type": "stream",
          "text": [
            "Metrics for k=7, Initialization=k-means++:\n",
            "Purity: 0.7153\n",
            "NMI: 0.4220\n",
            "Rand Score: 0.7092\n"
          ]
        },
        {
          "name": "stderr",
          "output_type": "stream",
          "text": [
            "/home/chirag/.local/lib/python3.8/site-packages/sklearn/cluster/_kmeans.py:1416: FutureWarning: The default value of `n_init` will change from 10 to 'auto' in 1.4. Set the value of `n_init` explicitly to suppress the warning\n",
            "  super()._check_params_vs_input(X, default_n_init=10)\n"
          ]
        },
        {
          "name": "stdout",
          "output_type": "stream",
          "text": [
            "Metrics for k=7, Initialization=k-means++:\n",
            "Purity: 0.7153\n",
            "NMI: 0.4220\n",
            "Rand Score: 0.7092\n"
          ]
        }
      ],
      "source": [
        "k_values = [4, 5, 7]\n",
        "for k in k_values:\n",
        "    for init_method in init_methods:\n",
        "        cluster_labels = kmeans_clustering(\n",
        "            data=embeds, k=k, true_labels=true_labels)"
      ]
    },
    {
      "cell_type": "code",
      "execution_count": null,
      "metadata": {},
      "outputs": [],
      "source": []
    }
  ],
  "metadata": {
    "colab": {
      "provenance": []
    },
    "kernelspec": {
      "display_name": "Python 3",
      "name": "python3"
    },
    "language_info": {
      "codemirror_mode": {
        "name": "ipython",
        "version": 3
      },
      "file_extension": ".py",
      "mimetype": "text/x-python",
      "name": "python",
      "nbconvert_exporter": "python",
      "pygments_lexer": "ipython3",
      "version": "3.8.10"
    }
  },
  "nbformat": 4,
  "nbformat_minor": 0
}
